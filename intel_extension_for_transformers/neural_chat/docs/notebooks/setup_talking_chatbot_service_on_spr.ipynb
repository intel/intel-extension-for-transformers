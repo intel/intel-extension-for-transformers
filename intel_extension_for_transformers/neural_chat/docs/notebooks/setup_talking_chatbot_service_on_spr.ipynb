{
 "cells": [
  {
   "cell_type": "markdown",
   "metadata": {},
   "source": [
    "Welcome to the Talking Chatbot! This notebook provides instructions for setting up the Talking Chatbot system on Intel XEON Scalable Processors. You can also deploy this text chatbot on various other platforms, such as Habana's Gaudi processors (HPU), Intel Data Center GPU and Client GPU, Nvidia Data Center GPU and Client GPU, by making minor configuration adjustments."
   ]
  },
  {
   "cell_type": "markdown",
   "metadata": {},
   "source": [
    "# Setup Backend"
   ]
  },
  {
   "cell_type": "markdown",
   "metadata": {},
   "source": [
    "## Setup environment"
   ]
  },
  {
   "cell_type": "code",
   "execution_count": null,
   "metadata": {},
   "outputs": [],
   "source": [
    "!pip install intel-extension-for-transformers\n",
    "!git clone https://github.com/intel/intel-extension-for-transformers.git\n",
    "!cd ./intel-extension-for-transformers/intel_extension_for_transformers/neural_chat/\n",
    "!pip install -r requirements.txt"
   ]
  },
  {
   "cell_type": "markdown",
   "metadata": {},
   "source": [
    "## Startup the backend server"
   ]
  },
  {
   "cell_type": "markdown",
   "metadata": {},
   "source": [
    "❗ Please notice that the server is running on the background. "
   ]
  },
  {
   "cell_type": "code",
   "execution_count": null,
   "metadata": {},
   "outputs": [],
   "source": [
    "!sudo apt install numactl\n",
    "!conda install astunparse ninja pyyaml mkl mkl-include setuptools cmake cffi typing_extensions future six requests dataclasses -y\n",
    "!conda install jemalloc gperftools -c conda-forge -y\n",
    "!conda install -q -y pyg -c pyg\n",
    "!conda install -q -y pytorch cudatoolkit=11.3 -c pytorch\n",
    "!pip install -U torch torchaudio --no-cache-dir"
   ]
  },
  {
   "cell_type": "code",
   "execution_count": null,
   "metadata": {},
   "outputs": [],
   "source": [
    "!curl -OL https://raw.githubusercontent.com/intel/intel-extension-for-transformers/main/intel_extension_for_transformers/neural_chat/examples/talkingbot/backend/talkingbot.yaml"
   ]
  },
  {
   "cell_type": "code",
   "execution_count": null,
   "metadata": {},
   "outputs": [],
   "source": [
    "import multiprocessing\n",
    "from intel_extension_for_transformers.neural_chat import NeuralChatServerExecutor\n",
    "import nest_asyncio\n",
    "nest_asyncio.apply()\n",
    "\n",
    "def start_service():\n",
    "    server_executor = NeuralChatServerExecutor()\n",
    "    server_executor(config_file=\"talkingbot.yaml\", log_file=\"neuralchat.log\")\n",
    "multiprocessing.Process(target=start_service).start()"
   ]
  },
  {
   "cell_type": "markdown",
   "metadata": {},
   "source": [
    "# Setup frontend\n",
    "\n",
    "## 📸 Frontend Screenshots\n",
    "\n",
    "![project-screenshot](https://i.imgur.com/aMQjHB5.png)\n",
    "![project-screenshot](https://i.imgur.com/49kpqzr.png)\n",
    "![project-screenshot](https://i.imgur.com/2pgsyGg.png)\n",
    "![project-screenshot](https://i.imgur.com/DYNPdSE.png)\n",
    "![project-screenshot](https://i.imgur.com/9518rja.png)\n",
    "![project-screenshot](https://i.imgur.com/NQedVvT.png)\n",
    "\n",
    "\n",
    "<h2>🧐 Features</h2>\n",
    "\n",
    "Here're some of the project's features:\n",
    "\n",
    "- Start a Talking Chat：Voice Chat and Bot Conversation.\n",
    "- Start with a Template：Dialogue with the character avatar and voice corresponding to the voice chat robot.\n",
    "- Start with a Customization：Feel free to mix and match voices and avatars to customize your own chatbot.\n",
    "- Upload: Upload avatar/voice/knowledge base, customize exclusive chatbot.\n",
    "- Regenerate: Regenerates the current conversation."
   ]
  },
  {
   "cell_type": "markdown",
   "metadata": {},
   "source": [
    "## 🛠️Get it Running\n",
    "\n",
    "cd to the talkingbot frontend foler:"
   ]
  },
  {
   "cell_type": "code",
   "execution_count": null,
   "metadata": {},
   "outputs": [],
   "source": [
    "!cd ./examples/talkingbot/frontend/"
   ]
  },
  {
   "cell_type": "markdown",
   "metadata": {},
   "source": [
    "Modify .env file and set the following environment variable:"
   ]
  },
  {
   "cell_type": "code",
   "execution_count": null,
   "metadata": {},
   "outputs": [],
   "source": [
    "AUDIO_URL = 'YOUR BACKEND SERVICE URL'"
   ]
  },
  {
   "cell_type": "markdown",
   "metadata": {},
   "source": [
    "Execute `npm install` to install the corresponding dependencies."
   ]
  },
  {
   "cell_type": "code",
   "execution_count": null,
   "metadata": {},
   "outputs": [],
   "source": [
    "!npm install"
   ]
  },
  {
   "cell_type": "markdown",
   "metadata": {},
   "source": [
    "Start the frontend using the following command:"
   ]
  },
  {
   "cell_type": "code",
   "execution_count": null,
   "metadata": {},
   "outputs": [],
   "source": [
    "!npm run dev"
   ]
  }
 ],
 "metadata": {
  "language_info": {
   "name": "python"
  },
  "orig_nbformat": 4
 },
 "nbformat": 4,
 "nbformat_minor": 2
}

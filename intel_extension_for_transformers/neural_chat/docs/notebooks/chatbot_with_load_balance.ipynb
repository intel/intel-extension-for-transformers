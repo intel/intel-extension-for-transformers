{
 "cells": [
  {
   "cell_type": "markdown",
   "metadata": {},
   "source": [
    "# Generative AI: Deploy Your Own Chatbot with Load Balance\n",
    "\n",
    "NeuralChat is a customizable chat framework designed to create user own chatbot within few minutes on multiple architectures. \n",
    "This notebook is used to demostrate how to deploy your own chatbot with load balance on single/multiple nodes."
   ]
  },
  {
   "cell_type": "markdown",
   "metadata": {},
   "source": [
    "# Start Backend Services 💡"
   ]
  },
  {
   "cell_type": "markdown",
   "metadata": {},
   "source": [
    "Following the `Quick Start Local Server` part of notebook `chatbot_on_intel_cpu.ipynb` to start Chatbot services.\n",
    "\n",
    "For example, you have two services running on four nodes as below, the `host_ip` and `port` are the real host ip and port numbers of your server.\n",
    "1. Textchat service\n",
    "    - http://host_ip_1:port_1/v1/chat/completions\n",
    "    - http://host_ip_2:port_2/v1/chat/completions\n",
    "2. Voicechat service\n",
    "    - http://host_ip_3:port_3/v1/voicechat/completions\n",
    "    - http://host_ip_4:port_4/v1/voicechat/completions"
   ]
  },
  {
   "cell_type": "markdown",
   "metadata": {},
   "source": [
    "# Configure Nginx Server 💻\n",
    "You can either download and install from Nginx source code for additional scalable services such as MySQL, or install directly from apt. "
   ]
  },
  {
   "cell_type": "markdown",
   "metadata": {},
   "source": [
    "## Install from Source Code"
   ]
  },
  {
   "cell_type": "markdown",
   "metadata": {},
   "source": [
    "#### Install\n",
    "The example download version is Nginx-1.18.0, you can choose to download other versions of different platform [here](https://nginx.org/en/download.html)."
   ]
  },
  {
   "cell_type": "code",
   "execution_count": null,
   "metadata": {
    "vscode": {
     "languageId": "shellscript"
    }
   },
   "outputs": [],
   "source": [
    "sudo apt-get update\n",
    "wget http://nginx.org/download/nginx-1.18.0.tar.gz\n",
    "tar -zxvf nginx-1.18.0.tar.gz\n",
    "cd nginx-1.18.0"
   ]
  },
  {
   "cell_type": "markdown",
   "metadata": {},
   "source": [
    "#### Compile and Start Nginx Service"
   ]
  },
  {
   "cell_type": "code",
   "execution_count": null,
   "metadata": {
    "vscode": {
     "languageId": "shellscript"
    }
   },
   "outputs": [],
   "source": [
    "# compile Makefile\n",
    "./configure --with-stream --with-stream_ssl_module --with-http_ssl_module --without-http_rewrite_module --without-http_gzip_module --with-openssl-opt=\"no-deprecated\"\n",
    "# compiling\n",
    "make CFLAGS=\"-Wno-error=deprecated-declarations\"\n",
    "# install and start service\n",
    "sudo make install\n",
    "sudo /usr/local/nginx/sbin/nginx\n",
    "# check whether nginx is started\n",
    "ps -elf | grep nginx"
   ]
  },
  {
   "cell_type": "markdown",
   "metadata": {},
   "source": [
    "## Install from apt"
   ]
  },
  {
   "cell_type": "markdown",
   "metadata": {},
   "source": [
    "#### Install\n",
    "Using apt, you can install nginx with a single command."
   ]
  },
  {
   "cell_type": "code",
   "execution_count": null,
   "metadata": {
    "vscode": {
     "languageId": "shellscript"
    }
   },
   "outputs": [],
   "source": [
    "# install nginx\n",
    "sudo apt install nginx"
   ]
  },
  {
   "cell_type": "markdown",
   "metadata": {},
   "source": [
    "#### Start Nginx Service"
   ]
  },
  {
   "cell_type": "code",
   "execution_count": null,
   "metadata": {
    "vscode": {
     "languageId": "shellscript"
    }
   },
   "outputs": [],
   "source": [
    "sudo systemctl start nginx\n",
    "sudo systemctl status nginx"
   ]
  },
  {
   "cell_type": "markdown",
   "metadata": {},
   "source": [
    "# Configure Nginx 🔧\n",
    "First, you need to find the configuration file."
   ]
  },
  {
   "cell_type": "code",
   "execution_count": null,
   "metadata": {
    "vscode": {
     "languageId": "shellscript"
    }
   },
   "outputs": [],
   "source": [
    "# In case you install nginx in different path, find the path of nginx.conf first\n",
    "find / -name nginx.conf\n",
    "# modify conf file\n",
    "vim /etc/nginx/nginx.conf"
   ]
  },
  {
   "cell_type": "markdown",
   "metadata": {},
   "source": [
    "## Single Server\n",
    "In Nginx configuration file, you need to add `upstream` part and modify `server` part in `http`.\n",
    "\n",
    "Define your local service in `upstream` with different host ip and port number. (Assume the services are running on local server, so the host ip is `localhost`.)\n",
    "\n",
    "Specify the listening port number in `server`.\n",
    "`location` indicates that `/text/chat` will use the upstream `text_chat_service`, and `proxy_pass` specify the Restful API of `/v1/chat/completions`."
   ]
  },
  {
   "cell_type": "markdown",
   "metadata": {},
   "source": [
    "http {\n",
    "\n",
    "    ########################\n",
    "    # Other Basic Settings #\n",
    "    ########################\n",
    "\n",
    "    #########################\n",
    "    # Load Balance Settings #\n",
    "    #########################\n",
    "\n",
    "    upstream text_chat_service {\n",
    "        server localhost:{port_1};\n",
    "        server localhost:{port_2};\n",
    "    }\n",
    "\n",
    "    ###################\n",
    "    # Server Settings #\n",
    "    ###################\n",
    "\n",
    "    server {\n",
    "        listen 80;\n",
    "\n",
    "        location /text/chat {\n",
    "            proxy_pass http://text_chat_service/v1/chat/completions;\n",
    "        }\n",
    "    }\n",
    "}"
   ]
  },
  {
   "cell_type": "markdown",
   "metadata": {},
   "source": [
    "## Multiple Server\n",
    "The difference between single/multiple server is the `upstream` part. `localhost` will be replaced by the real host number."
   ]
  },
  {
   "cell_type": "markdown",
   "metadata": {},
   "source": [
    "http {\n",
    "\n",
    "    ########################\n",
    "    # Other Basic Settings #\n",
    "    ########################\n",
    "\n",
    "    #########################\n",
    "    # Load Balance Settings #\n",
    "    #########################\n",
    "\n",
    "    upstream text_chat_service {\n",
    "        server {host_ip_1}:{port_1};\n",
    "        server {host_ip_2}:{port_2};\n",
    "    }\n",
    "\n",
    "    ###################\n",
    "    # Server Settings #\n",
    "    ###################\n",
    "\n",
    "    server {\n",
    "        listen 80;\n",
    "\n",
    "        location /text/chat {\n",
    "            proxy_pass http://text_chat_service/v1/chat/completions;\n",
    "        }\n",
    "    }\n",
    "}"
   ]
  },
  {
   "cell_type": "markdown",
   "metadata": {},
   "source": [
    "## Multiple Services\n",
    "If you need to support multiple services through one nginx server, add more `upstream` and `location` in nginx.conf."
   ]
  },
  {
   "cell_type": "markdown",
   "metadata": {},
   "source": [
    "http {\n",
    "\n",
    "    ########################\n",
    "    # Other Basic Settings #\n",
    "    ########################\n",
    "\n",
    "    #########################\n",
    "    # Load Balance Settings #\n",
    "    #########################\n",
    "\n",
    "    upstream text_chat_service {\n",
    "        server {host_ip_1}:{port_1};\n",
    "        server {host_ip_2}:{port_2};\n",
    "    }\n",
    "\n",
    "    upstream voice_chat_service {\n",
    "        server {host_ip_3}:{port_3};\n",
    "        server {host_ip_4}:{port_4};\n",
    "    }\n",
    "\n",
    "    ###################\n",
    "    # Server Settings #\n",
    "    ###################\n",
    "\n",
    "    server {\n",
    "        listen 80;\n",
    "\n",
    "        location /text/chat {\n",
    "            proxy_pass http://text_chat_service;\n",
    "        }\n",
    "\n",
    "        location /voice/chat {\n",
    "            proxy_pass http://voice_chat_service;\n",
    "        }\n",
    "    }\n",
    "}"
   ]
  },
  {
   "cell_type": "markdown",
   "metadata": {},
   "source": [
    "# Load Balance 🚀"
   ]
  },
  {
   "cell_type": "markdown",
   "metadata": {},
   "source": [
    "## Restart Nginx\n",
    "Restart nginx server to enable load balance service."
   ]
  },
  {
   "cell_type": "code",
   "execution_count": null,
   "metadata": {
    "vscode": {
     "languageId": "shellscript"
    }
   },
   "outputs": [],
   "source": [
    "systemctl restart nginx"
   ]
  },
  {
   "cell_type": "markdown",
   "metadata": {},
   "source": [
    "## Test Load Balance\n",
    "Assume the host of Nginx server is `198.0.0.1`, test load balance using curl command. (Make sure port number is the same as defined in nginx.conf)"
   ]
  },
  {
   "cell_type": "code",
   "execution_count": null,
   "metadata": {
    "vscode": {
     "languageId": "shellscript"
    }
   },
   "outputs": [],
   "source": [
    "curl -X POST -H \"Content-Type: application/json\" -d '{\"prompt\": \"Tell me about Intel Xeon Scalable Processors.\"}' http://198.0.0.1:80/v1/chat/completions"
   ]
  }
 ],
 "metadata": {
  "language_info": {
   "name": "python"
  },
  "orig_nbformat": 4
 },
 "nbformat": 4,
 "nbformat_minor": 2
}

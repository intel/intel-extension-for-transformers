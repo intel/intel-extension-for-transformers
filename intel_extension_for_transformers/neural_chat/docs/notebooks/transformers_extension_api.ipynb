{
 "cells": [
  {
   "cell_type": "markdown",
   "metadata": {},
   "source": [
    "Intel® Extension for Transformers supports seamless user experience of model compressions on Transformer-based models by extending Hugging Face transformers APIs."
   ]
  },
  {
   "cell_type": "markdown",
   "metadata": {},
   "source": [
    "# Prepare Environment"
   ]
  },
  {
   "cell_type": "markdown",
   "metadata": {},
   "source": [
    "Install intel extension for transformers:"
   ]
  },
  {
   "cell_type": "code",
   "execution_count": 5,
   "metadata": {},
   "outputs": [],
   "source": [
    "!pip install intel-extension-for-transformers"
   ]
  },
  {
   "cell_type": "markdown",
   "metadata": {},
   "source": [
    "Install Requirements:"
   ]
  },
  {
   "cell_type": "code",
   "execution_count": null,
   "metadata": {},
   "outputs": [],
   "source": [
    "!git clone https://github.com/intel/intel-extension-for-transformers.git\n",
    "%cd ./intel-extension-for-transformers/intel_extension_for_transformers/llm/runtime/graph/\n",
    "!pip install -r requirements.txt\n",
    "%cd ../../../"
   ]
  },
  {
   "cell_type": "markdown",
   "metadata": {},
   "source": [
    "# Run LLM with Transformer-extension API"
   ]
  },
  {
   "cell_type": "markdown",
   "metadata": {},
   "source": [
    "You can use transformers extension Python API to run Hugging Face model simply. Here is the sample code:"
   ]
  },
  {
   "cell_type": "code",
   "execution_count": null,
   "metadata": {},
   "outputs": [],
   "source": [
    "from transformers import AutoTokenizer, TextStreamer\n",
    "from intel_extension_for_transformers.transformers import AutoModelForCausalLM\n",
    "model_name = \"Intel/neural-chat-7b-v3-1\"     # Hugging Face model_id or local model\n",
    "prompt = \"Once upon a time, there existed a little girl,\"\n",
    "\n",
    "tokenizer = AutoTokenizer.from_pretrained(model_name, trust_remote_code=True)\n",
    "inputs = tokenizer(prompt, return_tensors=\"pt\").input_ids\n",
    "streamer = TextStreamer(tokenizer)\n",
    "\n",
    "model = AutoModelForCausalLM.from_pretrained(model_name, load_in_4bit=True)\n",
    "outputs = model.generate(inputs, streamer=streamer, max_new_tokens=300)"
   ]
  },
  {
   "cell_type": "markdown",
   "metadata": {},
   "source": [
    "To directly load a GPTQ model, here is the sample code:"
   ]
  },
  {
   "cell_type": "code",
   "execution_count": null,
   "metadata": {},
   "outputs": [],
   "source": [
    "from transformers import AutoTokenizer, TextStreamer\n",
    "from intel_extension_for_transformers.transformers import AutoModelForCausalLM, WeightOnlyQuantConfig\n",
    "\n",
    "# Download Hugging Face GPTQ model to local path\n",
    "model_name = \"PATH_TO_MODEL\"  # local path to model\n",
    "woq_config = WeightOnlyQuantConfig(use_gptq=True)\n",
    "prompt = \"Once upon a time, a little girl\"\n",
    "\n",
    "tokenizer = AutoTokenizer.from_pretrained(model_name, trust_remote_code=True)\n",
    "inputs = tokenizer(prompt, return_tensors=\"pt\").input_ids\n",
    "streamer = TextStreamer(tokenizer)\n",
    "model = AutoModelForCausalLM.from_pretrained(model_name, quantization_config=woq_config, trust_remote_code=True)\n",
    "outputs = model.generate(inputs, streamer=streamer, max_new_tokens=300)"
   ]
  },
  {
   "cell_type": "markdown",
   "metadata": {},
   "source": [
    "To use smooth quantization, here is the sample code:"
   ]
  },
  {
   "cell_type": "code",
   "execution_count": null,
   "metadata": {},
   "outputs": [],
   "source": [
    "from intel_extension_for_transformers.transformers import AutoModelForCausalLM\n",
    "from intel_extension_for_transformers.transformers import SmoothQuantConfig\n",
    "from transformers import AutoTokenizer\n",
    "# smooth-quant\n",
    "tokenizer = AutoTokenizer.from_pretrained(\"Intel/neural-chat-7b-v3-1\")\n",
    "recipes = {\n",
    "        \"smooth_quant\": True,\n",
    "        \"smooth_quant_args\": {\"alpha\": 0.5},\n",
    "            }\n",
    "sq_config = SmoothQuantConfig(\n",
    "                            tokenizer=tokenizer,  # either two of one, tokenizer or calib_func\n",
    "                            calib_iters=5,\n",
    "                            recipes=recipes\n",
    "                        )\n",
    "q_model = AutoModelForCausalLM.from_pretrained(\"Intel/neural-chat-7b-v3-1\",\n",
    "                                            quantization_config=sq_config,\n",
    "                                            use_neural_speed=False\n",
    "                                        )\n",
    "q_model.save(\"./saved_results\")"
   ]
  }
 ],
 "metadata": {
  "kernelspec": {
   "display_name": "Python 3 (ipykernel)",
   "language": "python",
   "name": "python3"
  },
  "language_info": {
   "codemirror_mode": {
    "name": "ipython",
    "version": 3
   },
   "file_extension": ".py",
   "mimetype": "text/x-python",
   "name": "python",
   "nbconvert_exporter": "python",
   "pygments_lexer": "ipython3",
   "version": "3.10.0"
  }
 },
 "nbformat": 4,
 "nbformat_minor": 4
}
